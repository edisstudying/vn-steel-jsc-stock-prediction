{
 "cells": [
  {
   "cell_type": "code",
   "execution_count": 8,
   "metadata": {},
   "outputs": [],
   "source": [
    "from tensorflow import keras\n",
    "import pandas as pd\n",
    "import numpy as np\n",
    "from sklearn.model_selection import train_test_split\n",
    "import matplotlib.pyplot as plt"
   ]
  },
  {
   "cell_type": "code",
   "execution_count": 9,
   "metadata": {},
   "outputs": [
    {
     "name": "stdout",
     "output_type": "stream",
     "text": [
      "Model: \"sequential_14\"\n",
      "_________________________________________________________________\n",
      " Layer (type)                Output Shape              Param #   \n",
      "=================================================================\n",
      " time_distributed_91 (TimeDi  (None, 1, 98, 64)        256       \n",
      " stributed)                                                      \n",
      "                                                                 \n",
      " time_distributed_92 (TimeDi  (None, 1, 49, 64)        0         \n",
      " stributed)                                                      \n",
      "                                                                 \n",
      " time_distributed_93 (TimeDi  (None, 1, 47, 128)       24704     \n",
      " stributed)                                                      \n",
      "                                                                 \n",
      " time_distributed_94 (TimeDi  (None, 1, 23, 128)       0         \n",
      " stributed)                                                      \n",
      "                                                                 \n",
      " time_distributed_95 (TimeDi  (None, 1, 21, 64)        24640     \n",
      " stributed)                                                      \n",
      "                                                                 \n",
      " time_distributed_96 (TimeDi  (None, 1, 10, 64)        0         \n",
      " stributed)                                                      \n",
      "                                                                 \n",
      " time_distributed_97 (TimeDi  (None, 1, 640)           0         \n",
      " stributed)                                                      \n",
      "                                                                 \n",
      " dense_22 (Dense)            (None, 1, 5)              3205      \n",
      "                                                                 \n",
      " bidirectional_26 (Bidirecti  (None, 1, 200)           84800     \n",
      " onal)                                                           \n",
      "                                                                 \n",
      " dropout_26 (Dropout)        (None, 1, 200)            0         \n",
      "                                                                 \n",
      " bidirectional_27 (Bidirecti  (None, 200)              240800    \n",
      " onal)                                                           \n",
      "                                                                 \n",
      " dropout_27 (Dropout)        (None, 200)               0         \n",
      "                                                                 \n",
      " dense_23 (Dense)            (None, 1)                 201       \n",
      "                                                                 \n",
      "=================================================================\n",
      "Total params: 378,606\n",
      "Trainable params: 378,606\n",
      "Non-trainable params: 0\n",
      "_________________________________________________________________\n"
     ]
    }
   ],
   "source": [
    "model = keras.models.load_model(r'..\\CNN-LSTM\\model.h5')\n",
    "model.summary()"
   ]
  },
  {
   "cell_type": "code",
   "execution_count": null,
   "metadata": {},
   "outputs": [],
   "source": [
    "hpg = pd.read_csv(r'..\\data\\HPG.csv')\n",
    "hpg.head()\n",
    "hpg2 = hpg.drop('date', axis=1)\n",
    "\n",
    "print(hpg2)\n",
    "\n",
    "X = []\n",
    "Y = []\n",
    "window_size=100\n",
    "for i in range(1 , len(hpg2) - window_size -1 , 1):\n",
    "    first = hpg2.iloc[i,2]\n",
    "    temp = []\n",
    "    temp2 = []\n",
    "    for j in range(window_size):\n",
    "        temp.append((hpg2.iloc[i + j, 2] - first) / first)\n",
    "    temp2.append((hpg2.iloc[i + window_size, 2] - first) / first)\n",
    "    X.append(np.array(temp).reshape(100, 1))\n",
    "    Y.append(np.array(temp2).reshape(1, 1))\n",
    "\n",
    "X = np.array(X)\n",
    "\n",
    "X = X.reshape(X.shape[0],1,100,1)"
   ]
  },
  {
   "cell_type": "code",
   "execution_count": null,
   "metadata": {},
   "outputs": [],
   "source": [
    "X.shape"
   ]
  },
  {
   "cell_type": "code",
   "execution_count": null,
   "metadata": {},
   "outputs": [],
   "source": [
    "def reshape(df):\n",
    "    X = []\n",
    "    window_size=100\n",
    "    for i in range(1 , len(df) - window_size -1 , 1):\n",
    "        first = df.iloc[i,2]\n",
    "        temp = []\n",
    "        for j in range(window_size):\n",
    "            temp.append((df.iloc[i + j, 2] - first) / first)\n",
    "        X.append(np.array(temp).reshape(100, 1))\n",
    "    X = np.array(X)\n",
    "    X = X.reshape(X.shape[0],1,100,1)\n",
    "    return X"
   ]
  },
  {
   "cell_type": "code",
   "execution_count": null,
   "metadata": {},
   "outputs": [],
   "source": [
    "hpg = reshape(hpg)"
   ]
  },
  {
   "cell_type": "code",
   "execution_count": null,
   "metadata": {},
   "outputs": [],
   "source": [
    "hpg_pred = model.predict(reshape(hpg))\n",
    "hpg_pred = np.array(hpg_pred[:,0]).reshape(-1,1)\n",
    "plt.plot(hpg_pred, color = 'green', label = 'Predicted  Stock Price')\n",
    "plt.title(' Stock Price Prediction')\n",
    "plt.xlabel('Time')\n",
    "plt.ylabel(' Stock Price')\n",
    "plt.show()"
   ]
  },
  {
   "cell_type": "code",
   "execution_count": null,
   "metadata": {},
   "outputs": [],
   "source": [
    "hpg_pred"
   ]
  }
 ],
 "metadata": {
  "kernelspec": {
   "display_name": "Python 3.10.4 ('stenv')",
   "language": "python",
   "name": "python3"
  },
  "language_info": {
   "codemirror_mode": {
    "name": "ipython",
    "version": 3
   },
   "file_extension": ".py",
   "mimetype": "text/x-python",
   "name": "python",
   "nbconvert_exporter": "python",
   "pygments_lexer": "ipython3",
   "version": "3.10.4"
  },
  "orig_nbformat": 4,
  "vscode": {
   "interpreter": {
    "hash": "84ae616fc95ab7e97589e83d31fff8d9407ea0b2ea73c5364572fe6fc66fbe8b"
   }
  }
 },
 "nbformat": 4,
 "nbformat_minor": 2
}
