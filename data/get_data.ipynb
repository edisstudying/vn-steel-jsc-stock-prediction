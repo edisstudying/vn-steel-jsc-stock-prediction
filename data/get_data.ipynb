{
 "cells": [
  {
   "cell_type": "code",
   "execution_count": 4,
   "metadata": {},
   "outputs": [],
   "source": [
    "#cd vnquant\n",
    "#python setup.py install\n",
    "from vnquant.DataLoader import DataLoader\n",
    "import pandas as pd"
   ]
  },
  {
   "cell_type": "code",
   "execution_count": null,
   "metadata": {},
   "outputs": [],
   "source": [
    "hpg = DataLoader(symbols=\"HPG\",\n",
    "           start=\"2010-01-01\",\n",
    "           end=\"2022-01-01\",\n",
    "           data_source=\"cafe\").download()\n",
    "data = hpg.to_csv(r'C:\\Users\\Chi\\Desktop\\satellite\\C\\vn-steel-jsc-stock-prediction\\data\\HPG.csv')\n",
    "hpg.head()"
   ]
  },
  {
   "cell_type": "code",
   "execution_count": null,
   "metadata": {},
   "outputs": [],
   "source": [
    "vis = DataLoader(symbols=\"VIS\",\n",
    "           start=\"2010-01-01\",\n",
    "           end=\"2022-01-01\",\n",
    "           data_source=\"cafe\").download()\n",
    "data = vis.to_csv(r'C:\\Users\\Chi\\Desktop\\satellite\\C\\vn-steel-jsc-stock-prediction\\data\\VIS.csv')\n",
    "vis.head()"
   ]
  },
  {
   "cell_type": "code",
   "execution_count": null,
   "metadata": {},
   "outputs": [],
   "source": [
    "dtl = DataLoader(symbols=\"DTL\",\n",
    "           start=\"2010-01-01\",\n",
    "           end=\"2022-01-01\",\n",
    "           data_source=\"cafe\").download()\n",
    "data = dtl.to_csv(r'C:\\Users\\Chi\\Desktop\\satellite\\C\\vn-steel-jsc-stock-prediction\\data\\DTL.csv')\n",
    "dtl.head()"
   ]
  },
  {
   "cell_type": "code",
   "execution_count": 6,
   "metadata": {},
   "outputs": [
    {
     "name": "stderr",
     "output_type": "stream",
     "text": [
      "c:\\Users\\Chi\\.conda\\envs\\stenv\\lib\\site-packages\\vnquant-0.0.2-py3.10.egg\\vnquant\\DataLoader.py:209: FutureWarning: Columnar iteration over characters will be deprecated in future releases.\n",
      "  stock_data['change_perc1'], stock_data['change_perc2'] = stock_data.change_perc.apply(utils.split_change_col).str\n",
      "2022-09-02 02:40:59,071 : INFO : data HSG from 2010-01-01 to 2022-01-01 have already cloned!\n"
     ]
    },
    {
     "data": {
      "text/html": [
       "<div>\n",
       "<style scoped>\n",
       "    .dataframe tbody tr th:only-of-type {\n",
       "        vertical-align: middle;\n",
       "    }\n",
       "\n",
       "    .dataframe tbody tr th {\n",
       "        vertical-align: top;\n",
       "    }\n",
       "\n",
       "    .dataframe thead tr th {\n",
       "        text-align: left;\n",
       "    }\n",
       "\n",
       "    .dataframe thead tr:last-of-type th {\n",
       "        text-align: right;\n",
       "    }\n",
       "</style>\n",
       "<table border=\"1\" class=\"dataframe\">\n",
       "  <thead>\n",
       "    <tr>\n",
       "      <th>Attributes</th>\n",
       "      <th>high</th>\n",
       "      <th>low</th>\n",
       "      <th>open</th>\n",
       "      <th>close</th>\n",
       "      <th>adjust</th>\n",
       "      <th>volume</th>\n",
       "    </tr>\n",
       "    <tr>\n",
       "      <th>Symbols</th>\n",
       "      <th>HSG</th>\n",
       "      <th>HSG</th>\n",
       "      <th>HSG</th>\n",
       "      <th>HSG</th>\n",
       "      <th>HSG</th>\n",
       "      <th>HSG</th>\n",
       "    </tr>\n",
       "    <tr>\n",
       "      <th>date</th>\n",
       "      <th></th>\n",
       "      <th></th>\n",
       "      <th></th>\n",
       "      <th></th>\n",
       "      <th></th>\n",
       "      <th></th>\n",
       "    </tr>\n",
       "  </thead>\n",
       "  <tbody>\n",
       "    <tr>\n",
       "      <th>2010-01-04</th>\n",
       "      <td>52.0</td>\n",
       "      <td>50.5</td>\n",
       "      <td>51.0</td>\n",
       "      <td>52.0</td>\n",
       "      <td>5.02</td>\n",
       "      <td>1420060</td>\n",
       "    </tr>\n",
       "    <tr>\n",
       "      <th>2010-01-05</th>\n",
       "      <td>54.5</td>\n",
       "      <td>52.5</td>\n",
       "      <td>54.5</td>\n",
       "      <td>53.0</td>\n",
       "      <td>5.12</td>\n",
       "      <td>850480</td>\n",
       "    </tr>\n",
       "    <tr>\n",
       "      <th>2010-01-06</th>\n",
       "      <td>55.5</td>\n",
       "      <td>53.0</td>\n",
       "      <td>53.0</td>\n",
       "      <td>55.5</td>\n",
       "      <td>5.36</td>\n",
       "      <td>1497290</td>\n",
       "    </tr>\n",
       "    <tr>\n",
       "      <th>2010-01-07</th>\n",
       "      <td>57.5</td>\n",
       "      <td>55.0</td>\n",
       "      <td>57.0</td>\n",
       "      <td>55.0</td>\n",
       "      <td>5.31</td>\n",
       "      <td>968590</td>\n",
       "    </tr>\n",
       "    <tr>\n",
       "      <th>2010-01-08</th>\n",
       "      <td>57.0</td>\n",
       "      <td>52.5</td>\n",
       "      <td>56.0</td>\n",
       "      <td>52.5</td>\n",
       "      <td>5.07</td>\n",
       "      <td>826260</td>\n",
       "    </tr>\n",
       "  </tbody>\n",
       "</table>\n",
       "</div>"
      ],
      "text/plain": [
       "Attributes  high   low  open close adjust   volume\n",
       "Symbols      HSG   HSG   HSG   HSG    HSG      HSG\n",
       "date                                              \n",
       "2010-01-04  52.0  50.5  51.0  52.0   5.02  1420060\n",
       "2010-01-05  54.5  52.5  54.5  53.0   5.12   850480\n",
       "2010-01-06  55.5  53.0  53.0  55.5   5.36  1497290\n",
       "2010-01-07  57.5  55.0  57.0  55.0   5.31   968590\n",
       "2010-01-08  57.0  52.5  56.0  52.5   5.07   826260"
      ]
     },
     "execution_count": 6,
     "metadata": {},
     "output_type": "execute_result"
    }
   ],
   "source": [
    "hsg = DataLoader(symbols=\"HSG\",\n",
    "           start=\"2010-01-01\",\n",
    "           end=\"2022-01-01\",\n",
    "           data_source=\"cafe\").download()\n",
    "data = hsg.to_csv(r'C:\\Users\\Chi\\Desktop\\satellite\\C\\vn-steel-jsc-stock-prediction\\data\\HSG.csv',index=False)\n",
    "hsg.head()"
   ]
  }
 ],
 "metadata": {
  "kernelspec": {
   "display_name": "Python 3.10.4 ('stock-prediction')",
   "language": "python",
   "name": "python3"
  },
  "language_info": {
   "codemirror_mode": {
    "name": "ipython",
    "version": 3
   },
   "file_extension": ".py",
   "mimetype": "text/x-python",
   "name": "python",
   "nbconvert_exporter": "python",
   "pygments_lexer": "ipython3",
   "version": "3.10.4"
  },
  "orig_nbformat": 4,
  "vscode": {
   "interpreter": {
    "hash": "2c4b3acd9e5eb03dc8681ebf3a89a966548c844b4aea70ac99a9727e3f81fc9f"
   }
  }
 },
 "nbformat": 4,
 "nbformat_minor": 2
}
